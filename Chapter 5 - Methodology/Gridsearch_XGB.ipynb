{
 "cells": [
  {
   "cell_type": "code",
   "execution_count": null,
   "id": "96105379",
   "metadata": {},
   "outputs": [],
   "source": [
    "import xgboost as xgb\n",
    "import pandas as pd\n",
    "from sklearn.model_selection import train_test_split, GridSearchCV\n",
    "from sklearn.metrics import roc_auc_score, confusion_matrix, accuracy_score, make_scorer\n",
    "\n",
    "# Filepath \n",
    "file_path = r'INSERT HERE'\n",
    "df = pd.read_excel(file_path)\n",
    "\n",
    "#Define Features & Target\n",
    "X = df[['X1', 'X2', 'X3', 'X4', 'X5', 'X6', 'X7', 'X8', 'X9', 'X10',\n",
    "        'X11', 'X12', 'X13', 'X14', 'X15', 'X16', 'X17', 'X18', 'X19',\n",
    "        'X20', 'X21', 'X22', 'X23', 'X24', 'X25', 'X26', 'X27']]\n",
    "y = df['status']\n",
    "\n",
    "# Splitting \n",
    "X_train, X_test, y_train, y_test = train_test_split(X, y, test_size=0.3, random_state=99, stratify=y)\n",
    "\n",
    "# XGB\n",
    "xg_clf = xgb.XGBClassifier(objective='binary:logistic', colsample_bytree=0.3, learning_rate=0.1,\n",
    "                           max_depth=5, alpha=10, n_estimators=10)\n",
    "\n",
    "# AUC\n",
    "scorer = make_scorer(roc_auc_score)\n",
    "\n",
    "# Defining Parameter\n",
    "param_grid = {\n",
    "    'learning_rate': [0.1, 0.01, 0.05],\n",
    "    'max_depth': [1, 3, 5,],\n",
    "    'n_estimators': [50, 100, 150, 200]\n",
    "}\n",
    "\n",
    "# GridSearchCV\n",
    "grid_search = GridSearchCV(estimator=xg_clf, param_grid=param_grid, cv=5, scoring=scorer)\n",
    "\n",
    "# Deploy\n",
    "grid_search.fit(X_train, y_train)\n",
    "\n",
    "# Print Result\n",
    "print(\"Best Parameters:\", grid_search.best_params_)\n",
    "print(\"Best AUC-ROC Score:\", grid_search.best_score_)\n",
    "\n",
    "# Deploy XGB\n",
    "best_xg_clf = grid_search.best_estimator_\n",
    "\n",
    "# Predicting\n",
    "y_pred = best_xg_clf.predict(X_test)\n",
    "y_pred_proba = best_xg_clf.predict_proba(X_test)[:, 1]\n",
    "\n",
    "# Results\n",
    "auc_roc = roc_auc_score(y_test, y_pred_proba)\n",
    "print(\"Final AUC-ROC Score:\", auc_roc)\n",
    "accuracy = accuracy_score(y_test, y_pred)\n",
    "print(\"Final Accuracy:\", accuracy)\n"
   ]
  }
 ],
 "metadata": {
  "kernelspec": {
   "display_name": "Python 3 (ipykernel)",
   "language": "python",
   "name": "python3"
  },
  "language_info": {
   "codemirror_mode": {
    "name": "ipython",
    "version": 3
   },
   "file_extension": ".py",
   "mimetype": "text/x-python",
   "name": "python",
   "nbconvert_exporter": "python",
   "pygments_lexer": "ipython3",
   "version": "3.11.7"
  }
 },
 "nbformat": 4,
 "nbformat_minor": 5
}
