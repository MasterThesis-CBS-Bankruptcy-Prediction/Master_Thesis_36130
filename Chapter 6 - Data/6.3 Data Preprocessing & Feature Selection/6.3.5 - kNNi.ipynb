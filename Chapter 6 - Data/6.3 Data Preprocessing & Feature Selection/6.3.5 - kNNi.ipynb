{
 "cells": [
  {
   "cell_type": "code",
   "execution_count": null,
   "id": "40f5ea19",
   "metadata": {},
   "outputs": [],
   "source": [
    "import pandas as pd\n",
    "from sklearn.impute import KNNImputer\n",
    "\n",
    "# File Path\n",
    "data = pd.read_excel(r'INSERRT HERE')\n",
    "\n",
    "#kNNi\n",
    "imputer = KNNImputer(n_neighbors=5)\n",
    "\n",
    "#Columns\n",
    "columns_to_impute = data.columns[1:-9]\n",
    "\n",
    "# Numeric\n",
    "numeric_columns = data[columns_to_impute].select_dtypes(include=['number']).columns\n",
    "\n",
    "# Apply\n",
    "data[numeric_columns] = imputer.fit_transform(data[numeric_columns])\n",
    "\n",
    "# Print result \n",
    "print(data.head())\n",
    "\n",
    "# Export\n",
    "data.to_excel(r'INSERT HERE', index=False)\n"
   ]
  }
 ],
 "metadata": {
  "kernelspec": {
   "display_name": "Python 3 (ipykernel)",
   "language": "python",
   "name": "python3"
  },
  "language_info": {
   "codemirror_mode": {
    "name": "ipython",
    "version": 3
   },
   "file_extension": ".py",
   "mimetype": "text/x-python",
   "name": "python",
   "nbconvert_exporter": "python",
   "pygments_lexer": "ipython3",
   "version": "3.11.7"
  }
 },
 "nbformat": 4,
 "nbformat_minor": 5
}
