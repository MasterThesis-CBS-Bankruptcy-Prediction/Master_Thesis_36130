{
 "cells": [
  {
   "cell_type": "code",
   "execution_count": null,
   "id": "e1564356",
   "metadata": {},
   "outputs": [],
   "source": [
    "import pandas as pd\n",
    "import numpy as np\n",
    "\n",
    "# File Path\n",
    "data = pd.read_excel(r'INSERT HERE')\n",
    "\n",
    "# Columnd\n",
    "columns_to_winsorize = data.columns[1:-9]\n",
    "\n",
    "# Apply\n",
    "for column in columns_to_winsorize:\n",
    "    if pd.api.types.is_numeric_dtype(data[column]):\n",
    "        \n",
    "        lower_bound = np.nanpercentile(data[column], 1)\n",
    "        upper_bound = np.nanpercentile(data[column], 99)\n",
    "        \n",
    "        # Print\n",
    "        print(f'Column: {column}, 1% Percentile: {lower_bound}, 99% Percentile: {upper_bound}')\n",
    "        \n",
    "        # Replace\n",
    "        data[column] = np.where(data[column] < lower_bound, lower_bound, data[column])\n",
    "        data[column] = np.where(data[column] > upper_bound, upper_bound, data[column])\n",
    "\n",
    "# Print\n",
    "print(data[columns_to_winsorize].head())\n",
    "\n",
    "# Export\n",
    "data.to_excel(r'C:\\Users\\ian.jensen\\Downloads\\dataset_for_preprocessing_new.xlsx', index=False)"
   ]
  }
 ],
 "metadata": {
  "kernelspec": {
   "display_name": "Python 3 (ipykernel)",
   "language": "python",
   "name": "python3"
  },
  "language_info": {
   "codemirror_mode": {
    "name": "ipython",
    "version": 3
   },
   "file_extension": ".py",
   "mimetype": "text/x-python",
   "name": "python",
   "nbconvert_exporter": "python",
   "pygments_lexer": "ipython3",
   "version": "3.11.7"
  }
 },
 "nbformat": 4,
 "nbformat_minor": 5
}
