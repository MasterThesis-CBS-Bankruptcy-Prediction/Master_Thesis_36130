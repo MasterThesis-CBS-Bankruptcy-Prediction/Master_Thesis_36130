{
 "cells": [
  {
   "cell_type": "code",
   "execution_count": 4,
   "id": "8a4932cf",
   "metadata": {},
   "outputs": [
    {
     "name": "stdout",
     "output_type": "stream",
     "text": [
      "File saved successfully\n"
     ]
    }
   ],
   "source": [
    "import pandas as pd\n",
    "from sklearn.preprocessing import MinMaxScaler\n",
    "\n",
    "# File Path \n",
    "file_path = r'INSERT HERE'\n",
    "df = pd.read_excel(file_path)\n",
    "\n",
    "# Features\n",
    "features_to_normalize = [\n",
    "    'X1', 'X2', 'X3', 'X4', 'X5', 'X6', 'X7', 'X8', 'X9', 'X10', \n",
    "    'X11', 'X12', 'X13', 'X14', 'X15', 'X16', 'X17', 'X18', 'X19', \n",
    "    'X20', 'X21', 'X22', 'X23', 'X24', 'X25', 'X26', 'X27'\n",
    "]\n",
    "\n",
    "# normalization\n",
    "scaler = MinMaxScaler(feature_range=(0, 1))\n",
    "df[features_to_normalize] = scaler.fit_transform(df[features_to_normalize])\n",
    "\n",
    "# Export\n",
    "df.to_excel('Normalized_Random_by_industry_final_01_local.xlsx', index=False)\n"
   ]
  }
 ],
 "metadata": {
  "kernelspec": {
   "display_name": "Python 3 (ipykernel)",
   "language": "python",
   "name": "python3"
  },
  "language_info": {
   "codemirror_mode": {
    "name": "ipython",
    "version": 3
   },
   "file_extension": ".py",
   "mimetype": "text/x-python",
   "name": "python",
   "nbconvert_exporter": "python",
   "pygments_lexer": "ipython3",
   "version": "3.11.7"
  }
 },
 "nbformat": 4,
 "nbformat_minor": 5
}
