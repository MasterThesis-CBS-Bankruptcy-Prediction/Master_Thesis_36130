{
 "cells": [
  {
   "cell_type": "code",
   "execution_count": null,
   "id": "8d73ab70",
   "metadata": {},
   "outputs": [],
   "source": [
    "import requests\n",
    "import json\n",
    "\n",
    "# URL to API\n",
    "url = 'http://distribution.virk.dk/offentliggoerelser/_search'\n",
    "\n",
    "# Query\n",
    "query_data = {\n",
    "    \"query\": {\n",
    "        \"bool\": {\n",
    "            \"must\": [\n",
    "                {\"range\": {\"regnskab.regnskabsperiode.startDato\": {\"gte\": \"2016-01-01\"}}},\n",
    "                {\"range\": {\"regnskab.regnskabsperiode.slutDato\": {\"lte\": \"2022-12-31\"}}}\n",
    "            ]\n",
    "        }\n",
    "    },\n",
    "    \"_source\": [\"cvrNummer\", \"regnskab.regnskabsperiode\", \"dokumenter.dokumentUrl\", \"omgoerelse\", \"dokumenter\"],\n",
    "    \"size\": 1  \n",
    "}\n",
    "\n",
    "# Get-request\n",
    "response = requests.get(url, headers={\"Content-Type\": \"application/json\"}, json=query_data)\n",
    "\n",
    "# Status\n",
    "if response.status_code == 200:\n",
    "    # Fetching\n",
    "    data = response.json()\n",
    "\n",
    "    # Export \n",
    "    with open('api_response_data.json', 'w', encoding='utf-8') as file:\n",
    "        json.dump(data, file, ensure_ascii=False, indent=4)\n",
    "    \n",
    "    print(\"OK'\")\n",
    "else:\n",
    "    print(\"ERROR\", response.status_code)"
   ]
  }
 ],
 "metadata": {
  "kernelspec": {
   "display_name": "Python 3 (ipykernel)",
   "language": "python",
   "name": "python3"
  },
  "language_info": {
   "codemirror_mode": {
    "name": "ipython",
    "version": 3
   },
   "file_extension": ".py",
   "mimetype": "text/x-python",
   "name": "python",
   "nbconvert_exporter": "python",
   "pygments_lexer": "ipython3",
   "version": "3.11.7"
  }
 },
 "nbformat": 4,
 "nbformat_minor": 5
}
