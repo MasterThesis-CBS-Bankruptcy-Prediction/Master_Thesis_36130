{
 "cells": [
  {
   "cell_type": "code",
   "execution_count": null,
   "id": "a8b0a051",
   "metadata": {},
   "outputs": [],
   "source": [
    "import pandas as pd\n",
    "from sklearn.model_selection import train_test_split\n",
    "from sklearn.linear_model import LogisticRegression\n",
    "from sklearn.metrics import classification_report, confusion_matrix, accuracy_score, roc_curve, roc_auc_score\n",
    "import matplotlib.pyplot as plt\n",
    "\n",
    "# File Path \n",
    "data = pd.read_excel(r\"INSERT HERE\")\n",
    "\n",
    "# Columns\n",
    "columns_of_interest = [f\"X{i}\" for i in range(1, 28)] + [\"status\", \"industry\"]\n",
    "model_data = data[columns_of_interest]\n",
    "\n",
    "# Feature & Target\n",
    "X = model_data.drop(['status', 'industry'], axis=1)\n",
    "y = model_data['status']\n",
    "\n",
    "# Splitting\n",
    "X_train, X_test, y_train, y_test = train_test_split(X, y, test_size=0.20, random_state=99, stratify=y)\n",
    "\n",
    "# LR\n",
    "lr_model = LogisticRegression(penalty='l1', solver='saga', C=1000, max_iter=10000)\n",
    "\n",
    "# Training\n",
    "lr_model.fit(X_train, y_train)\n",
    "\n",
    "# Predicting\n",
    "industries = ['A', 'C', 'F', 'G', 'H', 'I', 'J', 'L', 'M', 'N', 'P', 'Q', 'R']\n",
    "\n",
    "# Evaluating individually\n",
    "for industry in industries:\n",
    "    industry_data = model_data[model_data['industry'] == industry]\n",
    "    X_industry = industry_data.drop(['status', 'industry'], axis=1)\n",
    "    y_industry = industry_data['status']\n",
    "\n",
    "    if not X_industry.empty:\n",
    "        y_pred = lr_model.predict(X_industry)\n",
    "        y_proba = lr_model.predict_proba(X_industry)[:, 1]\n",
    "\n",
    "        # Evaluerer modellen\n",
    "        accuracy = accuracy_score(y_industry, y_pred)\n",
    "        auc_score = roc_auc_score(y_industry, y_proba)\n",
    "        \n",
    "        #Print\n",
    "        print(\"Accuracy:\", accuracy)\n",
    "        print(\"AUC-Score:\", auc_score)\n"
   ]
  }
 ],
 "metadata": {
  "kernelspec": {
   "display_name": "Python 3 (ipykernel)",
   "language": "python",
   "name": "python3"
  },
  "language_info": {
   "codemirror_mode": {
    "name": "ipython",
    "version": 3
   },
   "file_extension": ".py",
   "mimetype": "text/x-python",
   "name": "python",
   "nbconvert_exporter": "python",
   "pygments_lexer": "ipython3",
   "version": "3.11.7"
  }
 },
 "nbformat": 4,
 "nbformat_minor": 5
}
