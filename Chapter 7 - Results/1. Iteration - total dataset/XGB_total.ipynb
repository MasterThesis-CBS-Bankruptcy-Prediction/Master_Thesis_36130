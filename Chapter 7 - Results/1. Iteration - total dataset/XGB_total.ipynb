{
 "cells": [
  {
   "cell_type": "code",
   "execution_count": null,
   "id": "f481af9b",
   "metadata": {},
   "outputs": [],
   "source": [
    "import xgboost as xgb\n",
    "import pandas as pd\n",
    "from sklearn.model_selection import train_test_split\n",
    "from sklearn.metrics import roc_auc_score, confusion_matrix, accuracy_score\n",
    "\n",
    "# File Path\n",
    "file_path = r'INSERT HERE'\n",
    "df = pd.read_excel(file_path)\n",
    "\n",
    "# Industries\n",
    "industries = ['A', 'C', 'F', 'G', 'H', 'I', 'J', 'L', 'M', 'N', 'P', 'Q', 'R']\n",
    "\n",
    "# Feature & Target\n",
    "X = df[['X1', 'X2', 'X3', 'X4', 'X5', 'X6', 'X7', 'X8', 'X9', 'X10',\n",
    "        'X11', 'X12', 'X13', 'X14', 'X15', 'X16', 'X17', 'X18', 'X19',\n",
    "        'X20', 'X21', 'X22', 'X23', 'X24', 'X25', 'X26', 'X27']]\n",
    "y = df['status']\n",
    "\n",
    "# Splitting\n",
    "X_train, X_test, y_train, y_test = train_test_split(X, y, test_size=0.3, random_state=99, stratify=y)\n",
    "\n",
    "# XGB\n",
    "xg_clf = xgb.XGBClassifier(objective='binary:logistic', colsample_bytree=0.3, learning_rate=0.05,\n",
    "                           max_depth=5, alpha=10, n_estimators=200)\n",
    "\n",
    "# Training\n",
    "xg_clf.fit(X_train, y_train)\n",
    "\n",
    "# Predting on each industry\n",
    "for industry in industries\n",
    "    industry_df = df[df['Industry'] == industry]\n",
    "\n",
    "    if not industry_df.empty:\n",
    "        X_test_industry = industry_df[['X1', 'X2', 'X3', 'X4', 'X5', 'X6', 'X7', 'X8', 'X9', 'X10',\n",
    "                                        'X11', 'X12', 'X13', 'X14', 'X15', 'X16', 'X17', 'X18', 'X19',\n",
    "                                        'X20', 'X21', 'X22', 'X23', 'X24', 'X25', 'X26', 'X27']]\n",
    "        y_test_industry = industry_df['status']\n",
    "\n",
    "        # Predicting\n",
    "        y_pred_industry = xg_clf.predict(X_test_industry)\n",
    "        y_pred_proba_industry = xg_clf.predict_proba(X_test_industry)[:, 1]\n",
    "\n",
    "        # Result\n",
    "        #AUC\n",
    "        auc_roc = roc_auc_score(y_test_industry, y_pred_proba_industry)\n",
    "        print(\"Industry:\", industry)\n",
    "        print(\"AUC-ROC Score:\", auc_roc)\n",
    "\n",
    "        # Accuracy\n",
    "        accuracy = accuracy_score(y_test_industry, y_pred_industry)\n",
    "        print(\"Accuracy:\", accuracy)\n",
    "    else:\n",
    "        print(f\"No data available for industry {industry}.\")"
   ]
  }
 ],
 "metadata": {
  "kernelspec": {
   "display_name": "Python 3 (ipykernel)",
   "language": "python",
   "name": "python3"
  },
  "language_info": {
   "codemirror_mode": {
    "name": "ipython",
    "version": 3
   },
   "file_extension": ".py",
   "mimetype": "text/x-python",
   "name": "python",
   "nbconvert_exporter": "python",
   "pygments_lexer": "ipython3",
   "version": "3.10.9"
  }
 },
 "nbformat": 4,
 "nbformat_minor": 5
}
