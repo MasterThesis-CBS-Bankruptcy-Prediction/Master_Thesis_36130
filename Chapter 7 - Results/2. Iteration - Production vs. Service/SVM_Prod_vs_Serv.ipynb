{
 "cells": [
  {
   "cell_type": "code",
   "execution_count": null,
   "id": "d5007ee1",
   "metadata": {},
   "outputs": [],
   "source": [
    "import pandas as pd\n",
    "from sklearn.model_selection import train_test_split\n",
    "from sklearn.svm import SVC\n",
    "from sklearn.metrics import classification_report, confusion_matrix, accuracy_score, roc_auc_score\n",
    "from sklearn.preprocessing import StandardScaler\n",
    "from sklearn.pipeline import make_pipeline\n",
    "\n",
    "# File Path\n",
    "data = pd.read_excel(r\"INSERT HERE\")\n",
    "\n",
    "# Columns\n",
    "columns_of_interest = [f\"X{i}\" for i in range(1, 28)] + [\"status\", \"industry\"]\n",
    "model_data = data[columns_of_interest]\n",
    "\n",
    "# Prod vs. Serv\n",
    "production_industries = ['A', 'C', 'F']\n",
    "service_industries = ['G', 'H', 'I', 'J', 'L', 'M', 'N', 'P', 'Q', 'R', 'S']\n",
    "\n",
    "# Evaluation function\n",
    "def evaluate_model(model, X_test, y_test):\n",
    "    y_pred = model.predict(X_test)\n",
    "    y_proba = model.predict_proba(X_test)[:, 1]  \n",
    "    accuracy = accuracy_score(y_test, y_pred)\n",
    "    auc_score = roc_auc_score(y_test, y_proba)\n",
    "    conf_matrix = confusion_matrix(y_test, y_pred)\n",
    "    class_report = classification_report(y_test, y_pred)\n",
    "    return accuracy, auc_score, conf_matrix, class_report\n",
    "\n",
    "# SVM\n",
    "svm_model_prod = make_pipeline(StandardScaler(), SVC(kernel='linear', C=100, gamma='scale', probability=True))\n",
    "svm_model_serv = make_pipeline(StandardScaler(), SVC(kernel='linear', C=100, gamma='scale', probability=True))\n",
    "svm_model_prod.fit(X_train_prod, y_train_prod)\n",
    "svm_model_serv.fit(X_train_serv, y_train_serv)\n",
    "\n",
    "# Predict\n",
    "industries = model_data['industry'].unique()\n",
    "for industry in industries:\n",
    "    industry_data = model_data[model_data['industry'] == industry]\n",
    "    X_ind = industry_data.drop(['status', 'industry'], axis=1)\n",
    "    y_ind = industry_data['status']\n",
    "    X_train_ind, X_test_ind, y_train_ind, y_test_ind = train_test_split(X_ind, y_ind, test_size=0.30, random_state=99, stratify=y_ind)\n",
    "    \n",
    "    if industry in production_industries:\n",
    "        model = svm_model_prod\n",
    "    else:\n",
    "        model = svm_model_serv\n",
    "\n",
    "    #Results\n",
    "    accuracy_ind, auc_score_ind, conf_matrix_ind, class_report_ind = evaluate_model(model, X_test_ind, y_test_ind)\n",
    "    print(f\"\\nResults for Industry {industry}:\")\n",
    "    print(\"Accuracy:\", accuracy_ind)\n",
    "    print(\"AUC Score:\", auc_score_ind)"
   ]
  }
 ],
 "metadata": {
  "kernelspec": {
   "display_name": "Python 3 (ipykernel)",
   "language": "python",
   "name": "python3"
  },
  "language_info": {
   "codemirror_mode": {
    "name": "ipython",
    "version": 3
   },
   "file_extension": ".py",
   "mimetype": "text/x-python",
   "name": "python",
   "nbconvert_exporter": "python",
   "pygments_lexer": "ipython3",
   "version": "3.11.7"
  }
 },
 "nbformat": 4,
 "nbformat_minor": 5
}
