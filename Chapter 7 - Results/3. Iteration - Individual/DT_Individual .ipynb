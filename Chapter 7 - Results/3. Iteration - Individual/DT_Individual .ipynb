{
 "cells": [
  {
   "cell_type": "code",
   "execution_count": null,
   "id": "30ea1e59",
   "metadata": {},
   "outputs": [],
   "source": [
    "import pandas as pd\n",
    "from sklearn.model_selection import train_test_split\n",
    "from sklearn.tree import DecisionTreeClassifier\n",
    "from sklearn.metrics import accuracy_score, confusion_matrix, classification_report, roc_auc_score\n",
    "\n",
    "# Fiel Path \n",
    "data = pd.read_excel(r\"INSERT HERE\")\n",
    "\n",
    "# Columns\n",
    "columns_of_interest = [f\"X{i}\" for i in range(1, 28)] + [\"status\", \"industry\"]\n",
    "model_data = data[columns_of_interest]\n",
    "\n",
    "# Industries\n",
    "industries = ['A', 'C', 'F', 'G', 'H', 'I', 'J', 'L', 'M', 'N', 'P', 'Q', 'R']\n",
    "\n",
    "# Model for each industry\n",
    "for industry in industries:\n",
    "    industry_data = model_data[model_data['industry'] == industry]\n",
    "    \n",
    "    # Feature and Target\n",
    "    X = industry_data.drop(['status', 'industry'], axis=1)\n",
    "    y = industry_data['status']\n",
    "    \n",
    "    # Splitting\n",
    "    X_train, X_test, y_train, y_test = train_test_split(X, y, test_size=0.30, random_state=99, stratify=y)\n",
    "\n",
    "    # DT\n",
    "    tree_model = DecisionTreeClassifier(criterion='entropy', max_depth=10, min_samples_leaf=2, min_samples_split=20, random_state=99)\n",
    "\n",
    "    # Training\n",
    "    tree_model.fit(X_train, y_train)\n",
    "\n",
    "    # Predicting\n",
    "    y_pred = tree_model.predict(X_test)\n",
    "    y_proba = tree_model.predict_proba(X_test)[:, 1]  # Henter sandsynligheder for den positive klasse\n",
    "\n",
    "    # Results\n",
    "    accuracy = accuracy_score(y_test, y_pred)\n",
    "    auc_score = roc_auc_score(y_test, y_proba) \n",
    "\n",
    "\n",
    "    # Print\n",
    "    print(f\"Results for industry {industry}:\")\n",
    "    print(\"Accuracy:\", accuracy)\n",
    "    print(\"AUC Score:\", auc_score)\n"
   ]
  }
 ],
 "metadata": {
  "kernelspec": {
   "display_name": "Python 3 (ipykernel)",
   "language": "python",
   "name": "python3"
  },
  "language_info": {
   "codemirror_mode": {
    "name": "ipython",
    "version": 3
   },
   "file_extension": ".py",
   "mimetype": "text/x-python",
   "name": "python",
   "nbconvert_exporter": "python",
   "pygments_lexer": "ipython3",
   "version": "3.11.7"
  }
 },
 "nbformat": 4,
 "nbformat_minor": 5
}
